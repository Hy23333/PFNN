{
 "cells": [
  {
   "cell_type": "markdown",
   "metadata": {},
   "source": [
    "## Ablation study on KS dataset for PFNN latent dimension on short-term predictions"
   ]
  },
  {
   "cell_type": "code",
   "execution_count": null,
   "metadata": {},
   "outputs": [],
   "source": [
    "cd .."
   ]
  },
  {
   "cell_type": "code",
   "execution_count": null,
   "metadata": {},
   "outputs": [],
   "source": [
    "import numpy as np\n",
    "import pandas as pd\n",
    "import torch\n",
    "import matplotlib\n",
    "import matplotlib.pyplot as plt\n",
    "import seaborn as sns\n",
    "from tqdm import tqdm\n",
    "\n",
    "from model.utilities import *\n",
    "from model.koopman_base import *\n",
    "import sys\n",
    "sys.path.append('./model')\n",
    "\n",
    "import numpy.random as random\n",
    "\n",
    "font = {'size'   : 12, 'family': 'Times New Roman'}\n",
    "matplotlib.rc('font', **font)"
   ]
  },
  {
   "cell_type": "code",
   "execution_count": null,
   "metadata": {},
   "outputs": [
    {
     "name": "stderr",
     "output_type": "stream",
     "text": [
      "/var/folders/r1/v7355v5n0y3cw6l975b_dspm0000gn/T/ipykernel_15153/2715833728.py:19: UserWarning: To copy construct from a tensor, it is recommended to use sourceTensor.clone().detach() or sourceTensor.clone().detach().requires_grad_(True), rather than torch.tensor(sourceTensor).\n",
      "  data_tensor = torch.tensor(data_raw, dtype=torch.float)[...,::sub]\n"
     ]
    }
   ],
   "source": [
    "torch.manual_seed(0)\n",
    "np.random.seed(0)\n",
    "\n",
    "# Main\n",
    "n_test = 100\n",
    "\n",
    "sub = 4 # spatial subsample\n",
    "S = 512\n",
    "s = S//sub\n",
    "\n",
    "T_in = 500 # skip first 100 seconds of each trajectory to let trajectory reach attractor\n",
    "T = 200 # seconds to extract from each trajectory in data\n",
    "T_out = T_in + T\n",
    "step = 1 # Seconds to learn solution operator\n",
    "\n",
    "# Load data\n",
    "predloader = MatReader('../lake/data/KS.mat')\n",
    "data_raw = predloader.read_field('u')\n",
    "data_tensor = torch.tensor(data_raw, dtype=torch.float)[...,::sub]\n",
    "data_test = data_tensor[-n_test:,:,:]\n",
    "\n",
    "test_a = data_test[:,T_in-1:T_out-1,:].reshape(-1, s)\n",
    "test_u = data_test[:,T_in:T_out,:].reshape(-1, s)\n",
    "batch_size = 100\n",
    "test_loader = torch.utils.data.DataLoader(torch.utils.data.TensorDataset(test_a, test_u), batch_size=batch_size, shuffle=False)"
   ]
  },
  {
   "cell_type": "code",
   "execution_count": null,
   "metadata": {},
   "outputs": [],
   "source": [
    "device = torch.device('cpu')\n",
    "\n",
    "PFNN_latent_1_path = 'fill_PFNN_latent_128_model_path'\n",
    "model_latent_1 = torch.load(PFNN_latent_1_path, map_location=device)\n",
    "\n",
    "PFNN_latent_2_path = 'fill_PFNN_latent_256_model_path'\n",
    "model_latent_2 = torch.load(PFNN_latent_2_path, map_location=device)\n",
    "\n",
    "PFNN_latent_4_path = 'fill_PFNN_latent_512_model_path'\n",
    "model_latent_4 = torch.load(PFNN_latent_4_path, map_location=device)\n",
    "\n",
    "PFNN_latent_8_path = 'fill_PFNN_latent_1024_model_path'\n",
    "model_latent_8 = torch.load(PFNN_latent_8_path, map_location=device)"
   ]
  },
  {
   "cell_type": "code",
   "execution_count": null,
   "metadata": {},
   "outputs": [],
   "source": [
    "def episode_l2_loss(pred, truth, n = 100):\n",
    "    return torch.mean((pred[:n] - truth[:n])**2)\n",
    "\n",
    "def episode_loss_collection(regressive_steps, loss_fn, test_u, pred_1, pred_2, pred_3, pred_4):\n",
    "      loss_dict = {}\n",
    "\n",
    "      loss_latent_1 = loss_fn(pred_1, test_u, n=regressive_steps)\n",
    "      loss_latent_2 = loss_fn(pred_2, test_u, n=regressive_steps)\n",
    "      loss_latent_4 = loss_fn(pred_3, test_u, n=regressive_steps)\n",
    "      loss_latent_8 = loss_fn(pred_4, test_u, n=regressive_steps)\n",
    "            \n",
    "      loss_dict['latent_1'] = loss_latent_1.item()\n",
    "      loss_dict['latent_2'] = loss_latent_2.item()\n",
    "      loss_dict['latent_4'] = loss_latent_4.item()\n",
    "      loss_dict['latent_8'] = loss_latent_8.item()\n",
    "\n",
    "      return loss_dict"
   ]
  },
  {
   "cell_type": "code",
   "execution_count": null,
   "metadata": {},
   "outputs": [
    {
     "name": "stdout",
     "output_type": "stream",
     "text": [
      "steps_n: 100 started.\n"
     ]
    },
    {
     "name": "stderr",
     "output_type": "stream",
     "text": [
      "100%|██████████| 100/100 [00:04<00:00, 21.13it/s]\n"
     ]
    }
   ],
   "source": [
    "# collect L2 loss for each model\n",
    "steps_n_list = np.array([100])\n",
    "error_df_list = {}\n",
    "for steps_n in steps_n_list:\n",
    "      print('steps_n:', steps_n, 'started.')\n",
    "      error_df = pd.DataFrame(columns=['latent_1', 'latent_2', 'latent_4', 'latent_8'])\n",
    "      for init_id in tqdm(np.arange(n_test)):\n",
    "            latent_1_long_pred = long_prediction(model_latent_1, test_a, init_id, 1, s, s, T=steps_n)\n",
    "            latent_2_long_pred = long_prediction(model_latent_2, test_a, init_id, 1, s, s, T=steps_n)\n",
    "            latent_4_long_pred = long_prediction(model_latent_4, test_a, init_id, 1, s, s, T=steps_n)\n",
    "            latent_8_long_pred = long_prediction(model_latent_8, test_a, init_id, 1, s, s, T=steps_n)\n",
    "\n",
    "            episode_loss_dict = episode_loss_collection(steps_n, episode_l2_loss, test_u[int(init_id*T):], latent_1_long_pred, latent_2_long_pred, latent_4_long_pred, latent_8_long_pred)\n",
    "            error_df.loc[init_id] = episode_loss_dict\n",
    "      error_df_list['step_{}'.format(steps_n)] = error_df"
   ]
  },
  {
   "cell_type": "code",
   "execution_count": null,
   "metadata": {},
   "outputs": [],
   "source": [
    "# get root mean squared error\n",
    "error_mean_df = pd.DataFrame(\n",
    "      columns=['latent_1', 'latent_2', 'latent_4', 'latent_8'])\n",
    "for key in error_df_list.keys():\n",
    "      error_mean_df.loc[key] = (np.sqrt(error_df_list[key])).mean()\n",
    "error_std_df = pd.DataFrame(\n",
    "      columns=['latent_1', 'latent_2', 'latent_4', 'latent_8'])\n",
    "for key in error_df_list.keys():\n",
    "      error_std_df.loc[key] = (np.sqrt(error_df_list[key])).std()"
   ]
  },
  {
   "cell_type": "code",
   "execution_count": null,
   "metadata": {},
   "outputs": [
    {
     "data": {
      "text/html": [
       "<div>\n",
       "<style scoped>\n",
       "    .dataframe tbody tr th:only-of-type {\n",
       "        vertical-align: middle;\n",
       "    }\n",
       "\n",
       "    .dataframe tbody tr th {\n",
       "        vertical-align: top;\n",
       "    }\n",
       "\n",
       "    .dataframe thead th {\n",
       "        text-align: right;\n",
       "    }\n",
       "</style>\n",
       "<table border=\"1\" class=\"dataframe\">\n",
       "  <thead>\n",
       "    <tr style=\"text-align: right;\">\n",
       "      <th></th>\n",
       "      <th>latent_1</th>\n",
       "      <th>latent_2</th>\n",
       "      <th>latent_4</th>\n",
       "      <th>latent_8</th>\n",
       "    </tr>\n",
       "  </thead>\n",
       "  <tbody>\n",
       "    <tr>\n",
       "      <th>step_100</th>\n",
       "      <td>1.381249</td>\n",
       "      <td>1.223732</td>\n",
       "      <td>0.989623</td>\n",
       "      <td>2.778672</td>\n",
       "    </tr>\n",
       "  </tbody>\n",
       "</table>\n",
       "</div>"
      ],
      "text/plain": [
       "          latent_1  latent_2  latent_4  latent_8\n",
       "step_100  1.381249  1.223732  0.989623  2.778672"
      ]
     },
     "metadata": {},
     "output_type": "display_data"
    }
   ],
   "source": [
    "error_mean_df"
   ]
  },
  {
   "cell_type": "code",
   "execution_count": null,
   "metadata": {},
   "outputs": [
    {
     "name": "stdout",
     "output_type": "stream",
     "text": [
      "range_mean: 6.3963081169128415 range_max: 6.994479179382324\n"
     ]
    }
   ],
   "source": [
    "# find the range for normalization\n",
    "range_list = []\n",
    "for i in range (n_test):\n",
    "      range_list.append((test_u[T*i:T*(i+1)].max() - test_u[T*i:T*(i+1)].min()).item())\n",
    "range_list = np.array(range_list)\n",
    "range_list_rep = range_list[:,None].repeat(6, axis=1)\n",
    "range_mean = range_list.mean()\n",
    "range_max = range_list.max()\n",
    "print('range_mean:', range_mean, 'range_max:', range_max)"
   ]
  },
  {
   "cell_type": "code",
   "execution_count": null,
   "metadata": {},
   "outputs": [],
   "source": [
    "error_mean_percent_df = 100*error_mean_df/range_mean.item()\n",
    "error_std_percent_df = 100*error_std_df/range_mean.item()"
   ]
  },
  {
   "cell_type": "markdown",
   "metadata": {},
   "source": [
    "### NRMSE in percentage (for 100 steps prediction) ablation results for model trained on different latent dimensions Latent_x (Dimension = x*128)"
   ]
  },
  {
   "cell_type": "code",
   "execution_count": null,
   "metadata": {},
   "outputs": [
    {
     "data": {
      "text/html": [
       "<div>\n",
       "<style scoped>\n",
       "    .dataframe tbody tr th:only-of-type {\n",
       "        vertical-align: middle;\n",
       "    }\n",
       "\n",
       "    .dataframe tbody tr th {\n",
       "        vertical-align: top;\n",
       "    }\n",
       "\n",
       "    .dataframe thead th {\n",
       "        text-align: right;\n",
       "    }\n",
       "</style>\n",
       "<table border=\"1\" class=\"dataframe\">\n",
       "  <thead>\n",
       "    <tr style=\"text-align: right;\">\n",
       "      <th></th>\n",
       "      <th>latent_1</th>\n",
       "      <th>latent_2</th>\n",
       "      <th>latent_4</th>\n",
       "      <th>latent_8</th>\n",
       "    </tr>\n",
       "  </thead>\n",
       "  <tbody>\n",
       "    <tr>\n",
       "      <th>step_100</th>\n",
       "      <td>21.594466</td>\n",
       "      <td>19.131848</td>\n",
       "      <td>15.471778</td>\n",
       "      <td>43.441812</td>\n",
       "    </tr>\n",
       "  </tbody>\n",
       "</table>\n",
       "</div>"
      ],
      "text/plain": [
       "           latent_1   latent_2   latent_4   latent_8\n",
       "step_100  21.594466  19.131848  15.471778  43.441812"
      ]
     },
     "metadata": {},
     "output_type": "display_data"
    }
   ],
   "source": [
    "error_mean_percent_df"
   ]
  },
  {
   "cell_type": "code",
   "execution_count": null,
   "metadata": {},
   "outputs": [
    {
     "data": {
      "text/html": [
       "<div>\n",
       "<style scoped>\n",
       "    .dataframe tbody tr th:only-of-type {\n",
       "        vertical-align: middle;\n",
       "    }\n",
       "\n",
       "    .dataframe tbody tr th {\n",
       "        vertical-align: top;\n",
       "    }\n",
       "\n",
       "    .dataframe thead th {\n",
       "        text-align: right;\n",
       "    }\n",
       "</style>\n",
       "<table border=\"1\" class=\"dataframe\">\n",
       "  <thead>\n",
       "    <tr style=\"text-align: right;\">\n",
       "      <th></th>\n",
       "      <th>latent_1</th>\n",
       "      <th>latent_2</th>\n",
       "      <th>latent_4</th>\n",
       "      <th>latent_8</th>\n",
       "    </tr>\n",
       "  </thead>\n",
       "  <tbody>\n",
       "    <tr>\n",
       "      <th>step_100</th>\n",
       "      <td>1.49038</td>\n",
       "      <td>1.725468</td>\n",
       "      <td>1.995285</td>\n",
       "      <td>7.228813</td>\n",
       "    </tr>\n",
       "  </tbody>\n",
       "</table>\n",
       "</div>"
      ],
      "text/plain": [
       "          latent_1  latent_2  latent_4  latent_8\n",
       "step_100   1.49038  1.725468  1.995285  7.228813"
      ]
     },
     "metadata": {},
     "output_type": "display_data"
    }
   ],
   "source": [
    "error_std_percent_df"
   ]
  },
  {
   "cell_type": "code",
   "execution_count": null,
   "metadata": {},
   "outputs": [],
   "source": []
  }
 ],
 "metadata": {
  "kernelspec": {
   "display_name": "neural_operator_vae",
   "language": "python",
   "name": "python3"
  },
  "language_info": {
   "codemirror_mode": {
    "name": "ipython",
    "version": 3
   },
   "file_extension": ".py",
   "mimetype": "text/x-python",
   "name": "python",
   "nbconvert_exporter": "python",
   "pygments_lexer": "ipython3",
   "version": "3.9.20"
  }
 },
 "nbformat": 4,
 "nbformat_minor": 2
}

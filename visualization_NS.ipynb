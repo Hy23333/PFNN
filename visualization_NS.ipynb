{
 "cells": [
  {
   "cell_type": "code",
   "execution_count": null,
   "metadata": {},
   "outputs": [],
   "source": [
    "import numpy as np\n",
    "import torch\n",
    "import matplotlib\n",
    "import matplotlib.pyplot as plt\n",
    "import seaborn as sns\n",
    "\n",
    "# from utilities import *\n",
    "import numpy.random as random\n",
    "\n",
    "torch.manual_seed(0)\n",
    "np.random.seed(0)"
   ]
  },
  {
   "cell_type": "markdown",
   "metadata": {},
   "source": [
    "This notebook contains code to visualize PFNN predictions on the Kolmogorov Flow and compare them to baseline models. Additionally, the notebook can easily be adapted to visualizing predictions on other 2D Navier-Stokes equation systems.\n",
    "\n",
    "In the mean time, we visualize and compare the learned invariant statistics of long term predictions to the true invariant measure of the system."
   ]
  },
  {
   "cell_type": "markdown",
   "metadata": {},
   "source": [
    "## Preparation"
   ]
  },
  {
   "cell_type": "code",
   "execution_count": null,
   "metadata": {},
   "outputs": [],
   "source": [
    "import sys\n",
    "sys.path.append('./model')\n",
    "from utils.rnn_base import *\n",
    "from utils.vae_base import *\n",
    "from pfnn import *\n",
    "\n",
    "\n",
    "# load models\n",
    "device = torch.device('cuda:0' if torch.cuda.is_available() else 'mps')\n",
    "model_pfnn = torch.load('your_model_path', map_location=device)\n",
    "model_mno = torch.load('your_model_path', map_location='cpu')\n",
    "model_lstm = torch.load('your_model_path', map_location=device)\n",
    "model_koopman = torch.load('your_model_path', map_location=device)"
   ]
  },
  {
   "cell_type": "code",
   "execution_count": null,
   "metadata": {},
   "outputs": [],
   "source": []
  },
  {
   "cell_type": "markdown",
   "metadata": {},
   "source": [
    "## short-mid term prediction"
   ]
  },
  {
   "cell_type": "code",
   "execution_count": null,
   "metadata": {},
   "outputs": [],
   "source": []
  },
  {
   "cell_type": "code",
   "execution_count": null,
   "metadata": {},
   "outputs": [],
   "source": []
  },
  {
   "cell_type": "markdown",
   "metadata": {},
   "source": [
    "## Invariant Statistics"
   ]
  },
  {
   "cell_type": "markdown",
   "metadata": {},
   "source": [
    "### Turbulent kinetic energy (TKE)"
   ]
  },
  {
   "cell_type": "code",
   "execution_count": null,
   "metadata": {},
   "outputs": [],
   "source": []
  },
  {
   "cell_type": "markdown",
   "metadata": {},
   "source": [
    "### Mean state"
   ]
  },
  {
   "cell_type": "code",
   "execution_count": null,
   "metadata": {},
   "outputs": [],
   "source": []
  }
 ],
 "metadata": {
  "language_info": {
   "name": "python"
  }
 },
 "nbformat": 4,
 "nbformat_minor": 2
}
